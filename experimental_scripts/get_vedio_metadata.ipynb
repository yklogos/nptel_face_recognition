{
 "cells": [
  {
   "cell_type": "code",
   "execution_count": 1,
   "metadata": {},
   "outputs": [],
   "source": [
    "import pandas as pd\n",
    "import os\n",
    "import pickle"
   ]
  },
  {
   "cell_type": "code",
   "execution_count": 2,
   "metadata": {},
   "outputs": [],
   "source": [
    "def get_extension_files(path_to_json, ext='.mp4'):\n",
    "    json_files = [os.path.join(path_to_json, pos_json) for pos_json in os.listdir(path_to_json) if pos_json.endswith(ext)]\n",
    "    return json_files  \n",
    "\n",
    "def load_from_pickle(file_path):\n",
    "    with open(file_path, 'rb') as f:\n",
    "        file = pickle.load(f)\n",
    "    return file"
   ]
  },
  {
   "cell_type": "code",
   "execution_count": 3,
   "metadata": {},
   "outputs": [],
   "source": [
    "base_dir = 'D:\\\\nptel_face_recognition'\n",
    "data_dir = os.path.join(base_dir, 'data')\n",
    "full_vedios_dir = os.path.join(data_dir, 'full_vedio')\n",
    "pkl_files_dir = os.path.join(data_dir, \"pkl_files\")"
   ]
  },
  {
   "cell_type": "code",
   "execution_count": 4,
   "metadata": {},
   "outputs": [
    {
     "data": {
      "text/plain": [
       "{0: 'dr. a. kushari',\n",
       " 1: 'prof. ee et',\n",
       " 2: 'prof. k. p. sinhamahapatra',\n",
       " 3: 'prof. t.k.sengupta',\n",
       " 4: 'prof. shamik sen',\n",
       " 5: 'dr. p. gopinath ',\n",
       " 6: 'prof. mainak das',\n",
       " 7: 'dr. soros cree)',\n",
       " 8: 'prof. debabrata das',\n",
       " 9: 'dr eue or',\n",
       " 10: 'prof. gargi das',\n",
       " 11: 'dr ae cauca]',\n",
       " 12: 'prof. s. de',\n",
       " 13: 'prof. s. dasgupta',\n",
       " 14: 'prof: padma vankar',\n",
       " 15: 'prof. amit basak ',\n",
       " 16: 'prof. s. dasgupta',\n",
       " 17: 'prof. debashis ray',\n",
       " 18: 'prof. a. g. samuelson',\n",
       " 19: 'prof. indranil sengupta',\n",
       " 20: 'prof. shalabh ',\n",
       " 21: 'prof. deepak khemani ',\n",
       " 22: 'prof. soumya k. ghosh'}"
      ]
     },
     "execution_count": 4,
     "metadata": {},
     "output_type": "execute_result"
    }
   ],
   "source": [
    "ver = \"_with_diversity\"\n",
    "folder_name_2_prof_name_dict = load_from_pickle(os.path.join(pkl_files_dir, \"folder_name_2_prof_name_dict\"+ver+\".pkl\"))\n",
    "folder_name_2_prof_name_dict"
   ]
  },
  {
   "cell_type": "code",
   "execution_count": 37,
   "metadata": {},
   "outputs": [],
   "source": [
    "dict_list=[]\n",
    "for chanel_dir in channel_dir_list:\n",
    "    split_dir = chanel_dir.split(\"\\\\\")\n",
    "    if len(split_dir)==5: \n",
    "        continue\n",
    "    playlist = split_dir[-1]\n",
    "    channel = split_dir[-2]\n",
    "    for v in get_extension_files(chanel_dir):\n",
    "        dictn = {\"path\": v,\n",
    "        \"vedio\": v.split(\"\\\\\")[-1],\n",
    "        \"playlist\": playlist,\n",
    "        \"channel\": channel,\n",
    "        }\n",
    "        dict_list.append(dictn)\n",
    "df = pd.DataFrame(dict_list)"
   ]
  },
  {
   "cell_type": "code",
   "execution_count": 43,
   "metadata": {},
   "outputs": [
    {
     "data": {
      "text/html": [
       "<div>\n",
       "<style scoped>\n",
       "    .dataframe tbody tr th:only-of-type {\n",
       "        vertical-align: middle;\n",
       "    }\n",
       "\n",
       "    .dataframe tbody tr th {\n",
       "        vertical-align: top;\n",
       "    }\n",
       "\n",
       "    .dataframe thead th {\n",
       "        text-align: right;\n",
       "    }\n",
       "</style>\n",
       "<table border=\"1\" class=\"dataframe\">\n",
       "  <thead>\n",
       "    <tr style=\"text-align: right;\">\n",
       "      <th></th>\n",
       "      <th>path</th>\n",
       "      <th>vedio</th>\n",
       "      <th>playlist</th>\n",
       "      <th>channel</th>\n",
       "    </tr>\n",
       "  </thead>\n",
       "  <tbody>\n",
       "    <tr>\n",
       "      <th>0</th>\n",
       "      <td>D:\\nptel_face_recognition\\data\\full_vedio\\Aero...</td>\n",
       "      <td>hkBQutyQla8.mp4</td>\n",
       "      <td>Foundation of Scientific Computing</td>\n",
       "      <td>Aerospace Engineering</td>\n",
       "    </tr>\n",
       "    <tr>\n",
       "      <th>1</th>\n",
       "      <td>D:\\nptel_face_recognition\\data\\full_vedio\\Aero...</td>\n",
       "      <td>MkiUBJcgdUY.mp4</td>\n",
       "      <td>Foundation of Scientific Computing</td>\n",
       "      <td>Aerospace Engineering</td>\n",
       "    </tr>\n",
       "    <tr>\n",
       "      <th>2</th>\n",
       "      <td>D:\\nptel_face_recognition\\data\\full_vedio\\Aero...</td>\n",
       "      <td>s5cccilePqg.mp4</td>\n",
       "      <td>Foundation of Scientific Computing</td>\n",
       "      <td>Aerospace Engineering</td>\n",
       "    </tr>\n",
       "    <tr>\n",
       "      <th>3</th>\n",
       "      <td>D:\\nptel_face_recognition\\data\\full_vedio\\Aero...</td>\n",
       "      <td>vHz-8-bSj00.mp4</td>\n",
       "      <td>Foundation of Scientific Computing</td>\n",
       "      <td>Aerospace Engineering</td>\n",
       "    </tr>\n",
       "    <tr>\n",
       "      <th>4</th>\n",
       "      <td>D:\\nptel_face_recognition\\data\\full_vedio\\Aero...</td>\n",
       "      <td>vT40FWuvIB8.mp4</td>\n",
       "      <td>Foundation of Scientific Computing</td>\n",
       "      <td>Aerospace Engineering</td>\n",
       "    </tr>\n",
       "  </tbody>\n",
       "</table>\n",
       "</div>"
      ],
      "text/plain": [
       "                                                path            vedio  \\\n",
       "0  D:\\nptel_face_recognition\\data\\full_vedio\\Aero...  hkBQutyQla8.mp4   \n",
       "1  D:\\nptel_face_recognition\\data\\full_vedio\\Aero...  MkiUBJcgdUY.mp4   \n",
       "2  D:\\nptel_face_recognition\\data\\full_vedio\\Aero...  s5cccilePqg.mp4   \n",
       "3  D:\\nptel_face_recognition\\data\\full_vedio\\Aero...  vHz-8-bSj00.mp4   \n",
       "4  D:\\nptel_face_recognition\\data\\full_vedio\\Aero...  vT40FWuvIB8.mp4   \n",
       "\n",
       "                             playlist                channel  \n",
       "0  Foundation of Scientific Computing  Aerospace Engineering  \n",
       "1  Foundation of Scientific Computing  Aerospace Engineering  \n",
       "2  Foundation of Scientific Computing  Aerospace Engineering  \n",
       "3  Foundation of Scientific Computing  Aerospace Engineering  \n",
       "4  Foundation of Scientific Computing  Aerospace Engineering  "
      ]
     },
     "execution_count": 43,
     "metadata": {},
     "output_type": "execute_result"
    }
   ],
   "source": [
    "df.head()"
   ]
  }
 ],
 "metadata": {
  "kernelspec": {
   "display_name": "Python 3",
   "language": "python",
   "name": "python3"
  },
  "language_info": {
   "codemirror_mode": {
    "name": "ipython",
    "version": 3
   },
   "file_extension": ".py",
   "mimetype": "text/x-python",
   "name": "python",
   "nbconvert_exporter": "python",
   "pygments_lexer": "ipython3",
   "version": "3.7.6"
  }
 },
 "nbformat": 4,
 "nbformat_minor": 4
}
