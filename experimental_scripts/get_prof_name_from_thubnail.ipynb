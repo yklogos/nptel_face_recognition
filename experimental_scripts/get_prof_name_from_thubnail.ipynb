{
 "cells": [
  {
   "cell_type": "code",
   "execution_count": 1,
   "metadata": {},
   "outputs": [],
   "source": [
    "# play audio in ipython notebook\n",
    "try:\n",
    "    import winsound\n",
    "except ImportError:\n",
    "    !pip install winsound\n",
    "    import winsound\n",
    "duration = 1000  # milliseconds\n",
    "freq = 440  # Hz\n",
    "\n",
    "try:\n",
    "    %load_ext autotime\n",
    "except:\n",
    "    !pip install ipython-autotime\n",
    "    %load_ext autotime\n",
    "    \n",
    "import sys\n",
    "sys.path.append('C:\\\\Users\\\\YASH\\\\nptel_face_recognition')\n",
    "from utils import *"
   ]
  },
  {
   "cell_type": "code",
   "execution_count": 2,
   "metadata": {},
   "outputs": [
    {
     "name": "stdout",
     "output_type": "stream",
     "text": [
      "time: 998 µs\n"
     ]
    }
   ],
   "source": [
    "# %%capture\n",
    "# !pip install pytesseract"
   ]
  },
  {
   "cell_type": "code",
   "execution_count": 3,
   "metadata": {},
   "outputs": [
    {
     "name": "stdout",
     "output_type": "stream",
     "text": [
      "time: 12 ms\n"
     ]
    }
   ],
   "source": [
    "# %%capture\n",
    "# !pip install google "
   ]
  },
  {
   "cell_type": "code",
   "execution_count": 7,
   "metadata": {},
   "outputs": [
    {
     "name": "stdout",
     "output_type": "stream",
     "text": [
      "time: 2 ms\n"
     ]
    }
   ],
   "source": [
    "import numpy as np\n",
    "import time\n",
    "tt = time.time()\n",
    "import requests\n",
    "import os\n",
    "import pickle\n",
    "from lxml import html\n",
    "import numpy as np\n",
    "import urllib.request\n",
    "import face_recognition\n",
    "import cv2\n",
    "import matplotlib.pyplot as plt\n",
    "import pytesseract\n",
    "from googlesearch import search"
   ]
  },
  {
   "cell_type": "code",
   "execution_count": 5,
   "metadata": {},
   "outputs": [
    {
     "name": "stdout",
     "output_type": "stream",
     "text": [
      "time: 18 ms\n"
     ]
    }
   ],
   "source": [
    "def make_dict_from_lists(list1, list2, one2two = True):\n",
    "    if one2two:\n",
    "        final = {list1[i]:list2[i] for i in range(len(list1))}\n",
    "    else:\n",
    "        final = {list2[i]:list1[i] for i in range(len(list1))}\n",
    "\n",
    "def make_rgb_bgr(img):\n",
    "    b,g,r = cv2.split(img)          \n",
    "    rgb_img = cv2.merge([r,g,b]) \n",
    "    return rgb_img\n",
    "\n",
    "def read_bgr(path):\n",
    "    return make_rgb_bgr(cv2.imread(\"sample.jpg\", -1))\n",
    "\n",
    "def imshowg(gray):\n",
    "    plt.imshow(gray, cmap='gray')\n",
    "    \n",
    "def subimg(img, u=0,r=1,d=1,l=0):\n",
    "    h = img.shape[0]\n",
    "    b = img.shape[1]\n",
    "    return img[int(h*u):int(h*d), int(b*l):int(b*r)]\n",
    "\n",
    "def url_to_image(url):\n",
    "    try:\n",
    "        resp = urllib.request.urlopen(url)\n",
    "        image = np.asarray(bytearray(resp.read()), dtype=\"uint8\")\n",
    "        image = cv2.imdecode(image, cv2.IMREAD_COLOR)\n",
    "        return image\n",
    "    except Exception as e:\n",
    "        print(e)\n",
    "        print(url)\n",
    "        \n",
    "# get prof name from thumbnail\n",
    "\n",
    "\n",
    "def get_img_from_homepage(site_url):\n",
    "    \n",
    "\n",
    "    return final_img\n",
    "    \n",
    "def write_img_from_thumbnail(image_url):\n",
    "    \n",
    "\n",
    "    img = get_img_from_homepage(site_url)\n",
    "    plt.imshow(img)\n",
    "\n",
    "    prof_img_name = prof_name.split('.')[1].strip()\n",
    "    image_path  = known_faces_dir + '/' + prof_img_name + '.jpg'\n",
    "    cv2.imwrite(image_path, img) "
   ]
  },
  {
   "cell_type": "code",
   "execution_count": 6,
   "metadata": {},
   "outputs": [
    {
     "name": "stdout",
     "output_type": "stream",
     "text": [
      "time: 2.99 ms\n"
     ]
    }
   ],
   "source": [
    "image_url_list =['https://i.ytimg.com/vi/NzZXz3fJf6o/maxresdefault.jpg',  # cant get image from site\n",
    "                 'https://i.ytimg.com/vi/KMj49syT8JM/maxresdefault.jpg',\n",
    "                 'https://i.ytimg.com/vi/T3PsRW6wZSY/maxresdefault.jpg',\n",
    "                 'https://i.ytimg.com/vi/KG4hjVDw-p8/maxresdefault.jpg',\n",
    "                 'https://i.ytimg.com/vi/kNriKOJ-JuA/maxresdefault.jpg',\n",
    "                 'https://i.ytimg.com/vi/DFMf9oPbuRI/maxresdefault.jpg']"
   ]
  },
  {
   "cell_type": "code",
   "execution_count": 10,
   "metadata": {},
   "outputs": [
    {
     "name": "stdout",
     "output_type": "stream",
     "text": [
      "prof. soumya kanti ghosh\n",
      "time: 0.0\n",
      "prof. meenakshi d'souza\n",
      "time: 0.0\n",
      "\n",
      "time: 0.0\n",
      "prof. partha pratim dasiit kharagpur\n",
      "time: 0.0\n",
      "\n",
      "time: 0.0\n",
      "\n",
      "time: 0.0\n",
      "time: 13.9 s\n"
     ]
    }
   ],
   "source": [
    "# image_url = image_url_list[1]\n",
    "idx = 0\n",
    "# for image_url in [image_url_list[idx]]:\n",
    "for image_url in image_url_list:\n",
    "    st = tt\n",
    "    img = url_to_image(image_url)\n",
    "    img = make_rgb_bgr(img)\n",
    "\n",
    "    tesseract_file_path = \"C:/Users/YASH/AppData/Local/Tesseract-OCR/tesseract.exe\"\n",
    "    pytesseract.pytesseract.tesseract_cmd = tesseract_file_path\n",
    "    img = subimg(img, u=0.8)\n",
    "\n",
    "    # Convert the image to gray scale \n",
    "    gray = cv2.cvtColor(img, cv2.COLOR_BGR2GRAY) \n",
    "\n",
    "    # change threshold (127)\n",
    "    # draw bounding box\n",
    "    ret, thresh1 = cv2.threshold(gray, 0, 127, cv2.THRESH_BINARY) \n",
    "\n",
    "    rect_kernel = cv2.getStructuringElement(cv2.MORPH_RECT, (18, 18)) \n",
    "\n",
    "    # Appplying dilation on the threshold image \n",
    "    dilation = cv2.dilate(thresh1, rect_kernel, iterations = 1) \n",
    "    # dilation = thresh1\n",
    "\n",
    "    # Finding contours \n",
    "    contours, hierarchy = cv2.findContours(dilation, cv2.RETR_EXTERNAL,  \n",
    "                                                     cv2.CHAIN_APPROX_NONE) \n",
    "\n",
    "    # Creating a copy of image \n",
    "    im2 = img.copy() \n",
    "\n",
    "    for cnt in contours: \n",
    "        x, y, w, h = cv2.boundingRect(cnt) \n",
    "\n",
    "        # Drawing a rectangle on copied image \n",
    "        rect = cv2.rectangle(im2, (x, y), (x + w, y + h), (0, 255, 0), 2) \n",
    "\n",
    "        # Cropping the text block for giving input to OCR \n",
    "        cropped = im2[y:y + h, x:x + w] \n",
    "\n",
    "        # Apply OCR on the cropped image \n",
    "        text = pytesseract.image_to_string(cropped) \n",
    "\n",
    "    text = text.split(',')[0].replace('\\n','').strip().lower()\n",
    "    print(text)\n",
    "    print(f'time: {tt-st}')"
   ]
  },
  {
   "cell_type": "code",
   "execution_count": 11,
   "metadata": {},
   "outputs": [
    {
     "data": {
      "image/png": "[encoded data removed]",
      "text/plain": [
       "<Figure size 432x288 with 1 Axes>"
      ]
     },
     "metadata": {
      "needs_background": "light"
     },
     "output_type": "display_data"
    },
    {
     "name": "stdout",
     "output_type": "stream",
     "text": [
      "time: 396 ms\n"
     ]
    }
   ],
   "source": [
    "# img = cv2.imread(\"sample.jpg\") \n",
    "\n",
    "imshowg(gray)\n",
    "# imshowg(gray[70:80, 70:80])\n",
    "# imshowg(thresh1)\n",
    "# imshowg(thresh1[70:80, 70:80])\n",
    "# imshowg(dilation)\n",
    "# plt.imshow(np.array([[[255,255,255]]]))\n",
    "# plt.imshow(img)\n",
    "# plt.imshow(img[70:80, 70:80])"
   ]
  }
 ],
 "metadata": {
  "kernelspec": {
   "display_name": "Python 3",
   "language": "python",
   "name": "python3"
  },
  "language_info": {
   "codemirror_mode": {
    "name": "ipython",
    "version": 3
   },
   "file_extension": ".py",
   "mimetype": "text/x-python",
   "name": "python",
   "nbconvert_exporter": "python",
   "pygments_lexer": "ipython3",
   "version": "3.7.6"
  }
 },
 "nbformat": 4,
 "nbformat_minor": 4
}
