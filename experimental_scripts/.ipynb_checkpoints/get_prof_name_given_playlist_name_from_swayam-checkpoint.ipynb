{
 "cells": [
  {
   "cell_type": "code",
   "execution_count": 2,
   "metadata": {},
   "outputs": [],
   "source": [
    "# play audio in ipython notebook\n",
    "try:\n",
    "    import winsound\n",
    "except ImportError:\n",
    "    !pip install winsound\n",
    "    import winsound\n",
    "duration = 1000  # milliseconds\n",
    "freq = 440  # Hz\n",
    "\n",
    "try:\n",
    "    %load_ext autotime\n",
    "except:\n",
    "    !pip install ipython-autotime\n",
    "    %load_ext autotime\n",
    "    \n",
    "import sys\n",
    "sys.path.append('C:\\\\Users\\\\YASH\\\\nptel_face_recognition')\n",
    "from utils import *"
   ]
  },
  {
   "cell_type": "code",
   "execution_count": 3,
   "metadata": {},
   "outputs": [
    {
     "name": "stdout",
     "output_type": "stream",
     "text": [
      "time: 0 ns\n"
     ]
    }
   ],
   "source": [
    "# %%capture\n",
    "# !pip install pytesseract"
   ]
  },
  {
   "cell_type": "code",
   "execution_count": 4,
   "metadata": {},
   "outputs": [
    {
     "name": "stdout",
     "output_type": "stream",
     "text": [
      "time: 4.99 ms\n"
     ]
    }
   ],
   "source": [
    "# %%capture\n",
    "# !pip install google "
   ]
  },
  {
   "cell_type": "code",
   "execution_count": 5,
   "metadata": {},
   "outputs": [
    {
     "name": "stdout",
     "output_type": "stream",
     "text": [
      "time: 4.08 s\n"
     ]
    }
   ],
   "source": [
    "import numpy as np\n",
    "import requests\n",
    "import os\n",
    "import pickle\n",
    "from lxml import html\n",
    "import numpy as np\n",
    "import urllib.request\n",
    "import face_recognition\n",
    "import cv2\n",
    "import matplotlib.pyplot as plt\n",
    "import pytesseract\n",
    "from googlesearch import search"
   ]
  },
  {
   "cell_type": "code",
   "execution_count": 10,
   "metadata": {},
   "outputs": [
    {
     "name": "stdout",
     "output_type": "stream",
     "text": [
      "time: 3.99 ms\n"
     ]
    }
   ],
   "source": [
    "def save_as_pickle(file_path, file):\n",
    "    with open(file_path, 'wb') as f:\n",
    "        pickle.dump(file, f)\n",
    "\n",
    "def load_from_pickle(file_path):\n",
    "    with open(file_path, 'rb') as f:\n",
    "        file = pickle.load(f)\n",
    "    return file\n",
    "\n",
    "def make_dict_from_lists(list1, list2, one2two = True):\n",
    "    if one2two:\n",
    "        final = {list1[i]:list2[i] for i in range(len(list1))}\n",
    "    else:\n",
    "        final = {list2[i]:list1[i] for i in range(len(list1))}\n",
    "\n",
    "def make_rgb_bgr(img):\n",
    "    b,g,r = cv2.split(img)          \n",
    "    rgb_img = cv2.merge([r,g,b]) \n",
    "    return rgb_img\n",
    "\n",
    "def read_bgr(path):\n",
    "    return make_rgb_bgr(cv2.imread(\"sample.jpg\", -1))\n",
    "\n",
    "def imshowg(gray):\n",
    "    plt.imshow(gray, cmap='gray')\n",
    "    \n",
    "def subimg(img, u=0,r=1,d=1,l=0):\n",
    "    h = img.shape[0]\n",
    "    b = img.shape[1]\n",
    "    return img[int(h*u):int(h*d), int(b*l):int(b*r)]\n",
    "\n",
    "def url_to_image(url):\n",
    "    try:\n",
    "        resp = urllib.request.urlopen(url)\n",
    "        image = np.asarray(bytearray(resp.read()), dtype=\"uint8\")\n",
    "        image = cv2.imdecode(image, cv2.IMREAD_COLOR)\n",
    "        return image\n",
    "    except Exception as e:\n",
    "        print(e)\n",
    "        print(url)\n",
    "        \n",
    "# get prof name from thumbnail\n",
    "\n",
    "def write_img_from_thumbnail(image_url):\n",
    "    img = get_img_from_homepage(site_url)\n",
    "    plt.imshow(img)\n",
    "\n",
    "    prof_img_name = prof_name.split('.')[1].strip()\n",
    "    image_path  = known_faces_dir + '/' + prof_img_name + '.jpg'\n",
    "    cv2.imwrite(image_path, img) "
   ]
  },
  {
   "cell_type": "code",
   "execution_count": 8,
   "metadata": {},
   "outputs": [
    {
     "name": "stdout",
     "output_type": "stream",
     "text": [
      "time: 1.99 ms\n"
     ]
    }
   ],
   "source": [
    "# img = cv2.imread(\"sample.jpg\") \n",
    "\n",
    "# imshowg(gray)\n",
    "# imshowg(gray[70:80, 70:80])\n",
    "# imshowg(thresh1)\n",
    "# imshowg(thresh1[70:80, 70:80])\n",
    "# imshowg(dilation)\n",
    "# plt.imshow(np.array([[[255,255,255]]]))\n",
    "# plt.imshow(img)\n",
    "# plt.imshow(img[70:80, 70:80])"
   ]
  },
  {
   "cell_type": "code",
   "execution_count": 33,
   "metadata": {},
   "outputs": [
    {
     "name": "stdout",
     "output_type": "stream",
     "text": [
      "\n",
      "\n",
      "\n",
      "for nptel_channel_name: Aerospace Engineering\n",
      "\n",
      "for playlistn: Foundation of Scientific Computing\n",
      "\n",
      "for playlistn: Instability and Transition of Fluid Flows\n",
      "\n",
      "for playlistn: Introduction to Aerodynamics\n",
      "https://onlinecourses.nptel.ac.in/noc19_ae05/preview\n",
      "\n",
      "for playlistn: Jet and Rocket Propulsion\n",
      "https://onlinecourses.nptel.ac.in/noc20_ae13/preview\n",
      "\n",
      "for playlistn: Turbomachinery Aerodynamics\n",
      "f: 2\n",
      "nf: 3\n",
      "\n",
      "\n",
      "\n",
      "for nptel_channel_name: Biotechnology\n",
      "\n",
      "for playlistn: Bio electricity\n",
      "https://onlinecourses.nptel.ac.in/noc19_bt16/preview\n",
      "\n",
      "for playlistn: Biomedical nanotechnology\n",
      "https://onlinecourses.nptel.ac.in/noc19_bt28/preview\n",
      "\n",
      "for playlistn: Industrial Biotechnology\n"
     ]
    },
    {
     "ename": "KeyboardInterrupt",
     "evalue": "",
     "output_type": "error",
     "traceback": [
      "\u001b[1;31m---------------------------------------------------------------------------\u001b[0m",
      "\u001b[1;31mKeyboardInterrupt\u001b[0m                         Traceback (most recent call last)",
      "\u001b[1;32m<ipython-input-33-8a93c6c339c5>\u001b[0m in \u001b[0;36m<module>\u001b[1;34m\u001b[0m\n\u001b[0;32m     23\u001b[0m         \u001b[0mprint\u001b[0m\u001b[1;33m(\u001b[0m\u001b[1;34mf'\\nfor playlistn: {playlistn}'\u001b[0m\u001b[1;33m)\u001b[0m\u001b[1;33m\u001b[0m\u001b[1;33m\u001b[0m\u001b[0m\n\u001b[0;32m     24\u001b[0m         \u001b[0mfound\u001b[0m\u001b[1;33m=\u001b[0m\u001b[1;32mFalse\u001b[0m\u001b[1;33m\u001b[0m\u001b[1;33m\u001b[0m\u001b[0m\n\u001b[1;32m---> 25\u001b[1;33m         \u001b[1;32mfor\u001b[0m \u001b[0msite_url\u001b[0m \u001b[1;32min\u001b[0m \u001b[0msearch\u001b[0m\u001b[1;33m(\u001b[0m\u001b[1;34m\"swayam nptel \"\u001b[0m \u001b[1;33m+\u001b[0m \u001b[0mplaylistn\u001b[0m\u001b[1;33m,\u001b[0m \u001b[0mtld\u001b[0m\u001b[1;33m=\u001b[0m\u001b[1;34m\"com\"\u001b[0m\u001b[1;33m,\u001b[0m \u001b[0mnum\u001b[0m\u001b[1;33m=\u001b[0m\u001b[0mnum_url\u001b[0m\u001b[1;33m,\u001b[0m \u001b[0mstop\u001b[0m\u001b[1;33m=\u001b[0m\u001b[0mnum_url\u001b[0m\u001b[1;33m,\u001b[0m \u001b[0mpause\u001b[0m\u001b[1;33m=\u001b[0m\u001b[1;36m2\u001b[0m\u001b[1;33m)\u001b[0m\u001b[1;33m:\u001b[0m\u001b[1;33m\u001b[0m\u001b[1;33m\u001b[0m\u001b[0m\n\u001b[0m\u001b[0;32m     26\u001b[0m             \u001b[1;32mif\u001b[0m \u001b[0msite_url\u001b[0m\u001b[1;33m.\u001b[0m\u001b[0mfind\u001b[0m\u001b[1;33m(\u001b[0m\u001b[1;34m\"onlinecourses.nptel.ac.in\"\u001b[0m\u001b[1;33m)\u001b[0m\u001b[1;33m!=\u001b[0m\u001b[1;33m-\u001b[0m\u001b[1;36m1\u001b[0m\u001b[1;33m:\u001b[0m\u001b[1;33m\u001b[0m\u001b[1;33m\u001b[0m\u001b[0m\n\u001b[0;32m     27\u001b[0m                 \u001b[0mf\u001b[0m\u001b[1;33m+=\u001b[0m\u001b[1;36m1\u001b[0m\u001b[1;33m\u001b[0m\u001b[1;33m\u001b[0m\u001b[0m\n",
      "\u001b[1;32m~\\anaconda3\\lib\\site-packages\\googlesearch\\__init__.py\u001b[0m in \u001b[0;36msearch\u001b[1;34m(query, tld, lang, tbs, safe, num, start, stop, pause, country, extra_params, user_agent, verify_ssl)\u001b[0m\n\u001b[0;32m    300\u001b[0m         \u001b[1;31m# Sleep between requests.\u001b[0m\u001b[1;33m\u001b[0m\u001b[1;33m\u001b[0m\u001b[1;33m\u001b[0m\u001b[0m\n\u001b[0;32m    301\u001b[0m         \u001b[1;31m# Keeps Google from banning you for making too many requests.\u001b[0m\u001b[1;33m\u001b[0m\u001b[1;33m\u001b[0m\u001b[1;33m\u001b[0m\u001b[0m\n\u001b[1;32m--> 302\u001b[1;33m         \u001b[0mtime\u001b[0m\u001b[1;33m.\u001b[0m\u001b[0msleep\u001b[0m\u001b[1;33m(\u001b[0m\u001b[0mpause\u001b[0m\u001b[1;33m)\u001b[0m\u001b[1;33m\u001b[0m\u001b[1;33m\u001b[0m\u001b[0m\n\u001b[0m\u001b[0;32m    303\u001b[0m \u001b[1;33m\u001b[0m\u001b[0m\n\u001b[0;32m    304\u001b[0m         \u001b[1;31m# Request the Google Search results page.\u001b[0m\u001b[1;33m\u001b[0m\u001b[1;33m\u001b[0m\u001b[1;33m\u001b[0m\u001b[0m\n",
      "\u001b[1;31mKeyboardInterrupt\u001b[0m: "
     ]
    },
    {
     "name": "stdout",
     "output_type": "stream",
     "text": [
      "time: 21.3 s\n"
     ]
    }
   ],
   "source": [
    "base_dir = 'C:\\\\Users\\\\YASH\\\\nptel_face_recognition'\n",
    "full_vedios_dir = os.path.join(base_dir, \"full_vedio\")\n",
    "\n",
    "pkl_files_dir = os.path.join(base_dir, \"pkl_files\")\n",
    "nptel_channel_name_list = load_from_pickle(os.path.join(pkl_files_dir, \"nptel_channel_name_list.pkl\"))\n",
    "\n",
    "num_channels = 100\n",
    "num_playlists = 100\n",
    "num_url = 5\n",
    "\n",
    "tf=0\n",
    "tnf=0\n",
    "url_list=[]\n",
    "for nptel_channel_name in nptel_channel_name_list[:num_channels]:\n",
    "    print(f'\\n\\n\\nfor nptel_channel_name: {nptel_channel_name}')\n",
    "    chanel_vedio_dir = os.path.join(full_vedios_dir, nptel_channel_name)\n",
    "    playlist_path_list = [x[0] for x in os.walk(chanel_vedio_dir)][1:]\n",
    "    \n",
    "    f=0\n",
    "    nf=0\n",
    "    for playlist_path in playlist_path_list[:num_playlists]:\n",
    "        playlistn = playlist_path.split('\\\\')[-1]\n",
    "        print(f'\\nfor playlistn: {playlistn}')\n",
    "        found=False\n",
    "        for site_url in search(\"swayam nptel \" + playlistn, tld=\"com\", num=num_url, stop=num_url, pause=2):\n",
    "            if site_url.find(\"onlinecourses.nptel.ac.in\")!=-1:\n",
    "                f+=1\n",
    "                found=True\n",
    "                print(site_url)\n",
    "                url_list.append(site_url)\n",
    "                break\n",
    "        if not found:\n",
    "            nf+=1\n",
    "    tf+=f\n",
    "    tnf+=nf\n",
    "    print(f\"f: {f}\\nnf: {nf}\")\n",
    "            \n",
    "print(f\"\\n\\ntotal f: {tf}\\nnf: {tnf}\")"
   ]
  },
  {
   "cell_type": "code",
   "execution_count": 32,
   "metadata": {},
   "outputs": [
    {
     "name": "stdout",
     "output_type": "stream",
     "text": [
      "\n",
      "              By Prof. Rajkumar S. Pant   |  \n",
      "              IIT Bombay\n",
      "          \n",
      "Prof. Rajkumar S. Pant\n",
      "\n",
      "              By Prof. Ashoke De   |  \n",
      "              IIT Kanpur\n",
      "          \n",
      "Prof. Ashoke De\n",
      "\n",
      "              By Prof. Mainak Das   |  \n",
      "              IIT Kanpur\n",
      "          \n",
      "Prof. Mainak Das\n",
      "\n",
      "              By Prof. P. Gopinath   |  \n",
      "              IIT Roorkee\n",
      "          \n",
      "Prof. P. Gopinath\n",
      "\n",
      "              By Prof. Debabrata Das   |  \n",
      "              IIT Kharagpur\n",
      "          \n",
      "Prof. Debabrata Das\n",
      "\n",
      "              By Prof. Shamik Sen   |  \n",
      "              IIT Bombay\n",
      "          \n",
      "Prof. Shamik Sen\n",
      "\n",
      "              By Prof. Sanjeeva Srivastava   |  \n",
      "              IIT Bombay\n",
      "          \n",
      "Prof. Sanjeeva Srivastava\n",
      "\n",
      "              By Prof. Bishnupada Mandal   |  \n",
      "              IIT Guwahati\n",
      "          \n",
      "Prof. Bishnupada Mandal\n",
      "\n",
      "              By Prof. Sunando DasGupta   |  \n",
      "              IIT Kharagpur\n",
      "          \n",
      "Prof. Sunando DasGupta\n",
      "\n",
      "              By Prof. Gargi Das   |  \n",
      "              IIT Kharagpur\n",
      "          \n",
      "Prof. Gargi Das\n",
      "\n",
      "              By Prof. Debashis Ray   |  \n",
      "              IIT Kharagpur\n",
      "          \n",
      "Prof. Debashis Ray\n",
      "\n",
      "              By Prof. Swagata Dasgupta   |  \n",
      "              IIT Kharagpur\n",
      "          \n",
      "Prof. Swagata Dasgupta\n",
      "\n",
      "              By Prof. D. Maiti   |  \n",
      "              IIT Bombay\n",
      "          \n",
      "Prof. D. Maiti\n",
      "\n",
      "              By Prof.Amit Basak   |  \n",
      "              IIT Kharagpur\n",
      "          \n",
      "Prof.Amit Basak\n",
      "\n",
      "              By Prof. Deepak Khemani   |  \n",
      "              IIT Madras\n",
      "          \n",
      "Prof. Deepak Khemani\n",
      "\n",
      "              By Prof. Soumya Kanti Ghosh   |  \n",
      "              IIT Kharagpur\n",
      "          \n",
      "Prof. Soumya Kanti Ghosh\n",
      "\n",
      "              By Prof. Indranil Sengupta   |  \n",
      "              IIT Kharagpur\n",
      "          \n",
      "Prof. Indranil Sengupta\n",
      "\n",
      "              By Prof. Yogish Sabharwal   |  \n",
      "              IIT Delhi\n",
      "          \n",
      "Prof. Yogish Sabharwal\n",
      "\n",
      "              By Prof. Shalabh    |  \n",
      "              IIT Kanpur\n",
      "          \n",
      "Prof. Shalabh\n",
      "time: 14.7 s\n"
     ]
    }
   ],
   "source": [
    "site_url = \"https://onlinecourses.nptel.ac.in/noc19_ma33/preview\"\n",
    "for site_url in url_list:\n",
    "    r = requests.get(site_url)\n",
    "    tree = html.fromstring(r.content)\n",
    "    text = tree.xpath('//div[@class=\"col-lg-12 col-md-12 col-sm-12 col-xs-12\"]/text()')[0]\n",
    "    prof_name = text.strip().split(\"|\")[0].replace(\"By \",\"\").replace(\"\\xa0 \",\"\").strip()\n",
    "    print(prof_name)"
   ]
  },
  {
   "cell_type": "code",
   "execution_count": 30,
   "metadata": {},
   "outputs": [
    {
     "data": {
      "text/plain": [
       "'Prof. Shalabh'"
      ]
     },
     "execution_count": 30,
     "metadata": {},
     "output_type": "execute_result"
    },
    {
     "name": "stdout",
     "output_type": "stream",
     "text": [
      "time: 1.99 ms\n"
     ]
    }
   ],
   "source": []
  },
  {
   "cell_type": "code",
   "execution_count": null,
   "metadata": {},
   "outputs": [],
   "source": [
    "http://www.iitkgp.ac.in/department/CS/faculty/cs-skg/resources/images/hindi.png;jsessionid=1DF8FDE632A50AADA08AD77270A0CC81"
   ]
  }
 ],
 "metadata": {
  "kernelspec": {
   "display_name": "Python 3",
   "language": "python",
   "name": "python3"
  },
  "language_info": {
   "codemirror_mode": {
    "name": "ipython",
    "version": 3
   },
   "file_extension": ".py",
   "mimetype": "text/x-python",
   "name": "python",
   "nbconvert_exporter": "python",
   "pygments_lexer": "ipython3",
   "version": "3.7.6"
  }
 },
 "nbformat": 4,
 "nbformat_minor": 4
}
