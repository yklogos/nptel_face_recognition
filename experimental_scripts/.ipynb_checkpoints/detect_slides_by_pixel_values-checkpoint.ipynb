{
 "cells": [
  {
   "cell_type": "code",
   "execution_count": 6,
   "metadata": {},
   "outputs": [],
   "source": [
    "import cv2\n",
    "import numpy as np"
   ]
  },
  {
   "cell_type": "code",
   "execution_count": 4,
   "metadata": {},
   "outputs": [],
   "source": [
    "def get_unique_counts_from_array(arr):\n",
    "    unique, counts = np.unique(np.array(uniq_img), return_counts=True)\n",
    "    return unique, counts\n",
    "\n",
    "def get_unique_counts_from_unique_pixel_values(img):\n",
    "    uniq_img = img[:,:,0] + 255*img[:,:,1] + 255*255*img[:,:,1]\n",
    "    uniq_img = uniq_img.flatten()  \n",
    "    return get_unique_counts_from_array(uniq_img)\n",
    "\n",
    "def get_per_most_common_pixels(img):\n",
    "    unique, counts = get_unique_counts_from_unique_pixel_values(img)\n",
    "    return len([w for w in counts if w==highest_cnt])/len(counts)\n",
    "    \n",
    "def is_slide(threshold=0.5):\n",
    "    score = get_per_most_common_pixels(img)\n",
    "    if score>threshold:\n",
    "        return True\n",
    "    else:\n",
    "        return False\n",
    "    "
   ]
  },
  {
   "cell_type": "code",
   "execution_count": 38,
   "metadata": {},
   "outputs": [],
   "source": [
    "face = cv2.imread(\"../data/face.jpg\")\n",
    "slide = cv2.imread(\"../data/slide.jpg\")"
   ]
  },
  {
   "cell_type": "code",
   "execution_count": 36,
   "metadata": {},
   "outputs": [
    {
     "name": "stdout",
     "output_type": "stream",
     "text": [
      "len(unique): 5161\n",
      "\n",
      "counts[-1]:7591\n",
      "counts[-2]:7330\n",
      "counts[-3]:6251\n",
      "counts[-4]:5917\n",
      "counts[-5]:4638\n",
      "counts[0]:1\n",
      "counts[1]:1\n",
      "counts[2]:1\n",
      "counts[3]:1\n",
      "counts[4]:1\n",
      "\n",
      "number of pixels with highest count: 792\n",
      "percentage of pixels highest count: 0.1534586320480527\n",
      "number of pixels with lowest count: 1\n",
      "percentage of pixels with lowest count: 0.00019376089905057158\n"
     ]
    }
   ],
   "source": [
    "unique, counts = get_unique_pixel_values(face)\n",
    "counts = list(np.sort(counts))\n",
    "strn = f\"len(unique): {len(unique)}\\n\"\n",
    "lowest_cnt = counts[-1]\n",
    "highest_cnt = counts[0]\n",
    "num_cnt = 5\n",
    "for i in range(num_cnt):\n",
    "    i+=1\n",
    "    strn+=f\"\\ncounts[{-i}]:{counts[-i]}\" \n",
    "    \n",
    "for i in range(num_cnt):\n",
    "    strn+=f\"\\ncounts[{i}]:{counts[i]}\" \n",
    "\n",
    "strn+=f\"\\n\\nnumber of pixels with highest count: {len([w for w in counts if w==highest_cnt])}\"\n",
    "strn+=f\"\\npercentage of pixels highest count: {len([w for w in counts if w==highest_cnt])/len(counts)}\"\n",
    "\n",
    "strn+=f\"\\nnumber of pixels with lowest count: {len([w for w in counts if w==lowest_cnt])}\"\n",
    "strn+=f\"\\npercentage of pixels with lowest count: {len([w for w in counts if w==lowest_cnt])/len(counts)}\"\n",
    "    \n",
    "print(strn)"
   ]
  },
  {
   "cell_type": "code",
   "execution_count": 39,
   "metadata": {},
   "outputs": [
    {
     "name": "stdout",
     "output_type": "stream",
     "text": [
      "len(unique): 2680\n",
      "\n",
      "counts[-1]:74208\n",
      "counts[-2]:32623\n",
      "counts[-3]:22712\n",
      "counts[-4]:10192\n",
      "counts[-5]:3334\n",
      "counts[0]:1\n",
      "counts[1]:1\n",
      "counts[2]:1\n",
      "counts[3]:1\n",
      "counts[4]:1\n",
      "\n",
      "number of pixels with highest count: 1570\n",
      "percentage of pixels highest count: 0.585820895522388\n",
      "number of pixels with lowest count: 1\n",
      "percentage of pixels with lowest count: 0.00037313432835820896\n"
     ]
    }
   ],
   "source": [
    "unique, counts = get_unique_pixel_values(slide)\n",
    "counts = list(np.sort(counts))\n",
    "strn = f\"len(unique): {len(unique)}\\n\"\n",
    "lowest_cnt = counts[-1]\n",
    "highest_cnt = counts[0]\n",
    "num_cnt = 5\n",
    "for i in range(num_cnt):\n",
    "    i+=1\n",
    "    strn+=f\"\\ncounts[{-i}]:{counts[-i]}\" \n",
    "    \n",
    "for i in range(num_cnt):\n",
    "    strn+=f\"\\ncounts[{i}]:{counts[i]}\" \n",
    "\n",
    "strn+=f\"\\n\\nnumber of pixels with highest count: {len([w for w in counts if w==highest_cnt])}\"\n",
    "strn+=f\"\\npercentage of pixels highest count: {len([w for w in counts if w==highest_cnt])/len(counts)}\"\n",
    "\n",
    "strn+=f\"\\nnumber of pixels with lowest count: {len([w for w in counts if w==lowest_cnt])}\"\n",
    "strn+=f\"\\npercentage of pixels with lowest count: {len([w for w in counts if w==lowest_cnt])/len(counts)}\"\n",
    "    \n",
    "print(strn)"
   ]
  }
 ],
 "metadata": {
  "kernelspec": {
   "display_name": "Python 3",
   "language": "python",
   "name": "python3"
  },
  "language_info": {
   "codemirror_mode": {
    "name": "ipython",
    "version": 3
   },
   "file_extension": ".py",
   "mimetype": "text/x-python",
   "name": "python",
   "nbconvert_exporter": "python",
   "pygments_lexer": "ipython3",
   "version": "3.7.6"
  }
 },
 "nbformat": 4,
 "nbformat_minor": 4
}
