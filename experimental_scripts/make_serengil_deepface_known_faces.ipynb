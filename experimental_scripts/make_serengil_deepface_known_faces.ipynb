{
 "cells": [
  {
   "cell_type": "code",
   "execution_count": 1,
   "metadata": {},
   "outputs": [],
   "source": [
    "import os\n",
    "import pickle\n",
    "from shutil import copyfile"
   ]
  },
  {
   "cell_type": "code",
   "execution_count": 2,
   "metadata": {},
   "outputs": [],
   "source": [
    "def save_as_pickle(file_path, file):\n",
    "    with open(file_path, 'wb') as f:\n",
    "        pickle.dump(file, f)\n",
    "\n",
    "def load_from_pickle(file_path):\n",
    "    with open(file_path, 'rb') as f:\n",
    "        file = pickle.load(f)\n",
    "    return file\n",
    "\n",
    "def get_extension_files(path_to_json, ext='.json'):\n",
    "    json_files = [os.path.join(path_to_json, pos_json) for pos_json in os.listdir(path_to_json) if pos_json.endswith(ext)]\n",
    "    return json_files"
   ]
  },
  {
   "cell_type": "code",
   "execution_count": 3,
   "metadata": {},
   "outputs": [],
   "source": [
    "base_dir = 'D:\\\\nptel_face_recognition'\n",
    "data_dir = os.path.join(base_dir, 'data')\n",
    "ver = ''\n",
    "known_faces_dir = os.path.join(data_dir, 'known_faces'+ver)\n",
    "sgdf_known_faces_dir = os.path.join(data_dir, 'known_faces_sgdf')\n",
    "os.makedirs(sgdf_known_faces_dir, exist_ok = True)\n",
    "\n",
    "pkl_files_dir = os.path.join(data_dir, \"pkl_files\")\n",
    "folder_name_2_prof_name_dict = load_from_pickle(os.path.join(pkl_files_dir, \"folder_name_2_prof_name_dict\"+ver+\".pkl\"))"
   ]
  },
  {
   "cell_type": "code",
   "execution_count": 4,
   "metadata": {},
   "outputs": [],
   "source": [
    "images_dir_list = [x[0] for x in os.walk(known_faces_dir)][1:]\n",
    "known_face_names = [folder_name_2_prof_name_dict[int(w.split('\\\\')[-1])] for w in images_dir_list]\n",
    "\n",
    "known_face_images_nested_list = []\n",
    "for i,image_dir in enumerate(images_dir_list):\n",
    "    img_folder =  image_dir.split(\"\\\\\")[-1]\n",
    "    known_images_path_list = get_extension_files(image_dir, ext='.jpg') \n",
    "    for src in known_images_path_list:\n",
    "        img_name = src.split(\"\\\\\")[-1]\n",
    "        dst = os.path.join(sgdf_known_faces_dir, img_folder+img_name)\n",
    "        copyfile(src, dst)"
   ]
  },
  {
   "cell_type": "code",
   "execution_count": 5,
   "metadata": {},
   "outputs": [
    {
     "data": {
      "text/plain": [
       "'D:\\\\nptel_face_recognition\\\\data\\\\known_faces\\\\0\\\\11.jpg'"
      ]
     },
     "execution_count": 5,
     "metadata": {},
     "output_type": "execute_result"
    }
   ],
   "source": [
    "images_dir_list = [x[0] for x in os.walk(known_faces_dir)][1:]\n",
    "known_images_path_list = get_extension_files(images_dir_list[0], ext='.jpg') \n",
    "known_images_path_list[0]"
   ]
  }
 ],
 "metadata": {
  "kernelspec": {
   "display_name": "Python 3",
   "language": "python",
   "name": "python3"
  },
  "language_info": {
   "codemirror_mode": {
    "name": "ipython",
    "version": 3
   },
   "file_extension": ".py",
   "mimetype": "text/x-python",
   "name": "python",
   "nbconvert_exporter": "python",
   "pygments_lexer": "ipython3",
   "version": "3.7.6"
  }
 },
 "nbformat": 4,
 "nbformat_minor": 4
}
