{
 "cells": [
  {
   "cell_type": "code",
   "execution_count": 1,
   "metadata": {},
   "outputs": [],
   "source": [
    "import pandas as pd\n",
    "import numpy as np\n",
    "import cv2\n",
    "import os\n",
    "import humanize\n",
    "import matplotlib.pyplot as plt \n",
    "import pickle\n",
    "from ast import literal_eval"
   ]
  },
  {
   "cell_type": "code",
   "execution_count": 26,
   "metadata": {},
   "outputs": [],
   "source": [
    "def save_as_pickle(file_path, file):\n",
    "    with open(file_path, 'wb') as f:\n",
    "        pickle.dump(file, f)\n",
    "\n",
    "def load_from_pickle(file_path):\n",
    "    with open(file_path, 'rb') as f:\n",
    "        file = pickle.load(f)\n",
    "    return file\n",
    "\n",
    "def dropunamed(df):\n",
    "    if 'Unnamed: 0' in df.columns:\n",
    "        df = df.drop('Unnamed: 0', axis=1)\n",
    "    return df\n",
    "\n",
    "def print_df(df, target_col = None):\n",
    "    print(f\"df.shape: {df.shape}\")\n",
    "    print(f\"df.columns: {df.columns}\")\n",
    "    print(f\"df size: {humanize.naturalsize(df.memory_usage().sum())}\")\n",
    "    if not target_col==None:\n",
    "        print(df['target'].value_counts())\n",
    "        \n",
    "def get_extension_files(path_to_json, ext='.json'):\n",
    "    json_files = [os.path.join(path_to_json, pos_json) for pos_json in os.listdir(path_to_json) if pos_json.endswith(ext)]\n",
    "    return json_files\n",
    "\n",
    "def get_list_from_string(strn):\n",
    "    return literal_eval(strn.replace(\"\\n\", \"\").replace(\"\\' \\'\", \"\\', \\'\"))\n",
    "\n",
    "def get_side(img, side_type, side_size=5):\n",
    "    height, width, channel=img.shape\n",
    "    if side_type==\"horizontal\":\n",
    "        return np.ones((height,side_size,  channel), dtype=np.float32)*255\n",
    "        \n",
    "    return np.ones((side_size, width,  channel), dtype=np.float32)*255\n",
    "\n",
    "def imshow_all_predictions(df, vname, num_img_per_prof = 3, resize_shape = (50, 50)):\n",
    "    vertical_images=[]\n",
    "    prof_names_list = get_list_from_string(df[df[\"vname\"]==vname][\"unique\"].iloc[0])\n",
    "    for prof_name in prof_names_list:\n",
    "        folder_name = prof_name_2_folder_name_dict[prof_name]\n",
    "        folder_path = os.path.join(known_faces_dir, str(folder_name))\n",
    "        img_path_list = get_extension_files(folder_path, ext=\".jpg\")[:num_img_per_prof]\n",
    "        images=[]\n",
    "        for img_path in img_path_list:\n",
    "            img = cv2.imread(img_path)\n",
    "            img = img[:, :, ::-1]\n",
    "            img=cv2.resize(img, resize_shape) \n",
    "            hside=get_side(img, side_type=\"horizontal\")\n",
    "            images.append(img)\n",
    "            images.append(hside)\n",
    "        himage=np.hstack((images))\n",
    "        vside=get_side(himage, side_type=\"vertical\")\n",
    "        vertical_images.append(himage)\n",
    "        vertical_images.append(vside)\n",
    "\n",
    "    gallery=np.vstack((vertical_images)) \n",
    "    plt.figure(figsize=(12,12))\n",
    "    plt.xticks([])\n",
    "    plt.yticks([])\n",
    "    plt.title(f\"{num_img_per_prof} labeled faces per predicted professor\")\n",
    "    plt.imshow(gallery.astype(np.uint8))"
   ]
  },
  {
   "cell_type": "code",
   "execution_count": 3,
   "metadata": {},
   "outputs": [],
   "source": [
    "base_dir = 'D:\\\\nptel_face_recognition'\n",
    "data_dir = os.path.join(base_dir, 'data')\n",
    "known_faces_dir = os.path.join(data_dir, 'known_faces')\n",
    "full_vedios_dir = os.path.join(data_dir, 'full_vedio')\n",
    "pkl_files_dir = os.path.join(data_dir, \"pkl_files\")\n",
    "csv_files_dir = os.path.join(data_dir, \"csv_files\")\n",
    "\n",
    "folder_name_2_prof_name_dict = load_from_pickle(os.path.join(pkl_files_dir, \"folder_name_2_prof_name_dict.pkl\"))\n",
    "prof_name_2_folder_name_dict = {v: k for k, v in folder_name_2_prof_name_dict.items()}\n"
   ]
  },
  {
   "cell_type": "code",
   "execution_count": 4,
   "metadata": {},
   "outputs": [],
   "source": [
    "df = pd.read_csv(os.path.join(csv_files_dir, \"face_recognition_results.csv\"))\n",
    "\n",
    "# while reading csv files lists have to be converted locally using get_list_from_string  \n",
    "# takes 1 minute to load the pickle file\n",
    "# df = pd.read_pickle(os.path.join(pkl_files_dir, \"face_recognition_results.pkl\"))\n",
    "df = dropunamed(df)"
   ]
  },
  {
   "cell_type": "code",
   "execution_count": 5,
   "metadata": {},
   "outputs": [
    {
     "name": "stdout",
     "output_type": "stream",
     "text": [
      "df.shape: (52, 13)\n",
      "df.columns: Index(['vname', 'nptel_channel_name', 'playlistn', 'vedio_path', 'true_name',\n",
      "       'accuracy', 'number of predictions', 'time', 'unique', 'counts',\n",
      "       'frame_list', 'frame_index_list', 'names_list'],\n",
      "      dtype='object')\n",
      "df size: 5.5 kB\n"
     ]
    }
   ],
   "source": [
    "print_df(df)"
   ]
  },
  {
   "cell_type": "code",
   "execution_count": 10,
   "metadata": {},
   "outputs": [
    {
     "data": {
      "text/html": [
       "<div>\n",
       "<style scoped>\n",
       "    .dataframe tbody tr th:only-of-type {\n",
       "        vertical-align: middle;\n",
       "    }\n",
       "\n",
       "    .dataframe tbody tr th {\n",
       "        vertical-align: top;\n",
       "    }\n",
       "\n",
       "    .dataframe thead th {\n",
       "        text-align: right;\n",
       "    }\n",
       "</style>\n",
       "<table border=\"1\" class=\"dataframe\">\n",
       "  <thead>\n",
       "    <tr style=\"text-align: right;\">\n",
       "      <th></th>\n",
       "      <th>vname</th>\n",
       "      <th>nptel_channel_name</th>\n",
       "      <th>playlistn</th>\n",
       "      <th>vedio_path</th>\n",
       "      <th>true_name</th>\n",
       "      <th>accuracy</th>\n",
       "      <th>number of predictions</th>\n",
       "      <th>time</th>\n",
       "      <th>unique</th>\n",
       "      <th>counts</th>\n",
       "      <th>frame_list</th>\n",
       "      <th>frame_index_list</th>\n",
       "      <th>names_list</th>\n",
       "    </tr>\n",
       "  </thead>\n",
       "  <tbody>\n",
       "    <tr>\n",
       "      <th>0</th>\n",
       "      <td>ZDQBcuVRWYs.mp4</td>\n",
       "      <td>Aerospace Engineering</td>\n",
       "      <td>Jet and Rocket Propulsion</td>\n",
       "      <td>/content/drive/My Drive/nptel_face_recognition...</td>\n",
       "      <td>dr. a. kushari</td>\n",
       "      <td>0.92</td>\n",
       "      <td>50</td>\n",
       "      <td>10.579813</td>\n",
       "      <td>['dr. a. kushari' 'prof s. de' 'prof. debashis...</td>\n",
       "      <td>[46  2  1  1]</td>\n",
       "      <td>[array([[[2, 2, 2],\\n        [2, 2, 2],\\n     ...</td>\n",
       "      <td>[16, 17, 18, 19, 20, 21, 22, 23, 24, 25, 26, 2...</td>\n",
       "      <td>['dr. a. kushari', 'dr. a. kushari', 'dr. a. k...</td>\n",
       "    </tr>\n",
       "    <tr>\n",
       "      <th>1</th>\n",
       "      <td>QLcxx6MJnbA.mp4</td>\n",
       "      <td>Aerospace Engineering</td>\n",
       "      <td>Jet and Rocket Propulsion</td>\n",
       "      <td>/content/drive/My Drive/nptel_face_recognition...</td>\n",
       "      <td>dr. a. kushari</td>\n",
       "      <td>0.84</td>\n",
       "      <td>50</td>\n",
       "      <td>7.708869</td>\n",
       "      <td>['dr. a. kushari' 'prof s. de' 'prof. amit bas...</td>\n",
       "      <td>[42  1  1  1  4  1]</td>\n",
       "      <td>[array([[[0, 0, 0],\\n        [0, 0, 0],\\n     ...</td>\n",
       "      <td>[16, 17, 18, 19, 20, 21, 40, 41, 42, 43, 44, 4...</td>\n",
       "      <td>['dr. a. kushari', 'dr. a. kushari', 'dr. a. k...</td>\n",
       "    </tr>\n",
       "    <tr>\n",
       "      <th>2</th>\n",
       "      <td>YrkbOeF7wFw.mp4</td>\n",
       "      <td>Aerospace Engineering</td>\n",
       "      <td>Jet and Rocket Propulsion</td>\n",
       "      <td>/content/drive/My Drive/nptel_face_recognition...</td>\n",
       "      <td>dr. a. kushari</td>\n",
       "      <td>0.30</td>\n",
       "      <td>50</td>\n",
       "      <td>14.564180</td>\n",
       "      <td>['dr. a. kushari' 'prof s. de' 'prof. amit bas...</td>\n",
       "      <td>[15  8  1  8  1  1 12  4]</td>\n",
       "      <td>[array([[[2, 2, 2],\\n        [2, 2, 2],\\n     ...</td>\n",
       "      <td>[16, 17, 18, 19, 20, 21, 22, 23, 24, 42, 43, 4...</td>\n",
       "      <td>['dr. a. kushari', 'dr. a. kushari', 'dr. a. k...</td>\n",
       "    </tr>\n",
       "    <tr>\n",
       "      <th>3</th>\n",
       "      <td>2K0EJaimBas.mp4</td>\n",
       "      <td>Aerospace Engineering</td>\n",
       "      <td>Turbomachinery Aerodynamics</td>\n",
       "      <td>/content/drive/My Drive/nptel_face_recognition...</td>\n",
       "      <td>prof. bhaskar ot</td>\n",
       "      <td>0.98</td>\n",
       "      <td>50</td>\n",
       "      <td>4.840185</td>\n",
       "      <td>['dr. ton er' 'prof. bhaskar ot']</td>\n",
       "      <td>[ 1 49]</td>\n",
       "      <td>[array([[[0, 0, 0],\\n        [0, 0, 0],\\n     ...</td>\n",
       "      <td>[16, 17, 18, 19, 20, 21, 22, 23, 24, 25, 26, 2...</td>\n",
       "      <td>['prof. bhaskar ot', 'prof. bhaskar ot', 'prof...</td>\n",
       "    </tr>\n",
       "    <tr>\n",
       "      <th>4</th>\n",
       "      <td>utL9RWUdVVs.mp4</td>\n",
       "      <td>Aerospace Engineering</td>\n",
       "      <td>Turbomachinery Aerodynamics</td>\n",
       "      <td>/content/drive/My Drive/nptel_face_recognition...</td>\n",
       "      <td>prof. bhaskar ot</td>\n",
       "      <td>1.00</td>\n",
       "      <td>50</td>\n",
       "      <td>4.846596</td>\n",
       "      <td>['prof. bhaskar ot']</td>\n",
       "      <td>[50]</td>\n",
       "      <td>[array([[[4, 1, 2],\\n        [4, 1, 2],\\n     ...</td>\n",
       "      <td>[16, 17, 18, 19, 20, 21, 22, 23, 24, 25, 26, 2...</td>\n",
       "      <td>['prof. bhaskar ot', 'prof. bhaskar ot', 'prof...</td>\n",
       "    </tr>\n",
       "  </tbody>\n",
       "</table>\n",
       "</div>"
      ],
      "text/plain": [
       "             vname     nptel_channel_name                    playlistn  \\\n",
       "0  ZDQBcuVRWYs.mp4  Aerospace Engineering    Jet and Rocket Propulsion   \n",
       "1  QLcxx6MJnbA.mp4  Aerospace Engineering    Jet and Rocket Propulsion   \n",
       "2  YrkbOeF7wFw.mp4  Aerospace Engineering    Jet and Rocket Propulsion   \n",
       "3  2K0EJaimBas.mp4  Aerospace Engineering  Turbomachinery Aerodynamics   \n",
       "4  utL9RWUdVVs.mp4  Aerospace Engineering  Turbomachinery Aerodynamics   \n",
       "\n",
       "                                          vedio_path         true_name  \\\n",
       "0  /content/drive/My Drive/nptel_face_recognition...    dr. a. kushari   \n",
       "1  /content/drive/My Drive/nptel_face_recognition...    dr. a. kushari   \n",
       "2  /content/drive/My Drive/nptel_face_recognition...    dr. a. kushari   \n",
       "3  /content/drive/My Drive/nptel_face_recognition...  prof. bhaskar ot   \n",
       "4  /content/drive/My Drive/nptel_face_recognition...  prof. bhaskar ot   \n",
       "\n",
       "   accuracy  number of predictions       time  \\\n",
       "0      0.92                     50  10.579813   \n",
       "1      0.84                     50   7.708869   \n",
       "2      0.30                     50  14.564180   \n",
       "3      0.98                     50   4.840185   \n",
       "4      1.00                     50   4.846596   \n",
       "\n",
       "                                              unique  \\\n",
       "0  ['dr. a. kushari' 'prof s. de' 'prof. debashis...   \n",
       "1  ['dr. a. kushari' 'prof s. de' 'prof. amit bas...   \n",
       "2  ['dr. a. kushari' 'prof s. de' 'prof. amit bas...   \n",
       "3                  ['dr. ton er' 'prof. bhaskar ot']   \n",
       "4                               ['prof. bhaskar ot']   \n",
       "\n",
       "                      counts  \\\n",
       "0              [46  2  1  1]   \n",
       "1        [42  1  1  1  4  1]   \n",
       "2  [15  8  1  8  1  1 12  4]   \n",
       "3                    [ 1 49]   \n",
       "4                       [50]   \n",
       "\n",
       "                                          frame_list  \\\n",
       "0  [array([[[2, 2, 2],\\n        [2, 2, 2],\\n     ...   \n",
       "1  [array([[[0, 0, 0],\\n        [0, 0, 0],\\n     ...   \n",
       "2  [array([[[2, 2, 2],\\n        [2, 2, 2],\\n     ...   \n",
       "3  [array([[[0, 0, 0],\\n        [0, 0, 0],\\n     ...   \n",
       "4  [array([[[4, 1, 2],\\n        [4, 1, 2],\\n     ...   \n",
       "\n",
       "                                    frame_index_list  \\\n",
       "0  [16, 17, 18, 19, 20, 21, 22, 23, 24, 25, 26, 2...   \n",
       "1  [16, 17, 18, 19, 20, 21, 40, 41, 42, 43, 44, 4...   \n",
       "2  [16, 17, 18, 19, 20, 21, 22, 23, 24, 42, 43, 4...   \n",
       "3  [16, 17, 18, 19, 20, 21, 22, 23, 24, 25, 26, 2...   \n",
       "4  [16, 17, 18, 19, 20, 21, 22, 23, 24, 25, 26, 2...   \n",
       "\n",
       "                                          names_list  \n",
       "0  ['dr. a. kushari', 'dr. a. kushari', 'dr. a. k...  \n",
       "1  ['dr. a. kushari', 'dr. a. kushari', 'dr. a. k...  \n",
       "2  ['dr. a. kushari', 'dr. a. kushari', 'dr. a. k...  \n",
       "3  ['prof. bhaskar ot', 'prof. bhaskar ot', 'prof...  \n",
       "4  ['prof. bhaskar ot', 'prof. bhaskar ot', 'prof...  "
      ]
     },
     "execution_count": 10,
     "metadata": {},
     "output_type": "execute_result"
    }
   ],
   "source": [
    "df.head()"
   ]
  },
  {
   "cell_type": "code",
   "execution_count": 11,
   "metadata": {},
   "outputs": [
    {
     "name": "stdout",
     "output_type": "stream",
     "text": [
      "total vedios: 52\n",
      "mean acuracy: 0.7858143244962427\n",
      "num of nans: 0\n",
      "num of perfect accuracy: 18\n"
     ]
    }
   ],
   "source": [
    "print(f'total vedios: {df.shape[0]}\\nmean acuracy: {df[\"accuracy\"].mean()}\\n\\\n",
    "num of nans: {df[df[\"accuracy\"].isna()].shape[0]}\\nnum of perfect accuracy: {df[df[\"accuracy\"]==1].shape[0]}')"
   ]
  },
  {
   "cell_type": "code",
   "execution_count": 30,
   "metadata": {},
   "outputs": [
    {
     "data": {
      "text/plain": [
       "(array([ 4.,  2.,  1.,  1.,  3.,  2.,  0.,  2.,  2., 35.]),\n",
       " array([0. , 0.1, 0.2, 0.3, 0.4, 0.5, 0.6, 0.7, 0.8, 0.9, 1. ]),\n",
       " <BarContainer object of 10 artists>)"
      ]
     },
     "execution_count": 30,
     "metadata": {},
     "output_type": "execute_result"
    },
    {
     "data": {
      "image/png": "[encoded data removed]",
      "text/plain": [
       "<Figure size 432x288 with 1 Axes>"
      ]
     },
     "metadata": {
      "needs_background": "light"
     },
     "output_type": "display_data"
    }
   ],
   "source": [
    "plt.hist(df[\"accuracy\"])"
   ]
  },
  {
   "cell_type": "code",
   "execution_count": 31,
   "metadata": {},
   "outputs": [],
   "source": [
    "# show sample images for all predicetd profs for a vedio\n",
    "\n",
    "imshow_all_predictions(df, \"Vnxy8BcCTUc.mp4\")"
   ]
  }
 ],
 "metadata": {
  "kernelspec": {
   "display_name": "Python 3",
   "language": "python",
   "name": "python3"
  },
  "language_info": {
   "codemirror_mode": {
    "name": "ipython",
    "version": 3
   },
   "file_extension": ".py",
   "mimetype": "text/x-python",
   "name": "python",
   "nbconvert_exporter": "python",
   "pygments_lexer": "ipython3",
   "version": "3.7.6"
  }
 },
 "nbformat": 4,
 "nbformat_minor": 4
}
